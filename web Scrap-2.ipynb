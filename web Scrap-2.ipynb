{
 "cells": [
  {
   "cell_type": "code",
   "execution_count": 41,
   "metadata": {},
   "outputs": [],
   "source": [
    "from bs4 import BeautifulSoup\n",
    "import requests\n",
    "import csv\n",
    "from urllib.request import urlopen\n",
    "import pandas as pd\n",
    "import numpy as np\n",
    "from tqdm import tqdm"
   ]
  },
  {
   "cell_type": "code",
   "execution_count": 42,
   "metadata": {},
   "outputs": [],
   "source": [
    "url='https://forum.ge/?act=idx'\n",
    "#opening up connection using url\n",
    "forum_page=urlopen(url)"
   ]
  },
  {
   "cell_type": "code",
   "execution_count": 43,
   "metadata": {},
   "outputs": [],
   "source": [
    "soup = BeautifulSoup(forum_page, 'lxml')\n",
    "thread_links = soup.findAll('a')"
   ]
  },
  {
   "cell_type": "code",
   "execution_count": 44,
   "metadata": {},
   "outputs": [
    {
     "data": {
      "text/plain": [
       "<a href=\"https://forum.ge/?s=6aaa0a5236b9aef96d52b393c483504d&amp;\" title=\"TBILISIS FORUMI\"><img alt=\"forum.ge\" border=\"0\" src=\"style_images/1/logo.gif\"/></a>"
      ]
     },
     "execution_count": 44,
     "metadata": {},
     "output_type": "execute_result"
    }
   ],
   "source": [
    "thread_links[0]"
   ]
  },
  {
   "cell_type": "code",
   "execution_count": 45,
   "metadata": {},
   "outputs": [],
   "source": [
    "list_of_links = []\n",
    "title=[]\n",
    "for link in thread_links:\n",
    "    if link.has_attr('href'):\n",
    "        list_of_links.append(link.attrs['href'])"
   ]
  },
  {
   "cell_type": "code",
   "execution_count": 46,
   "metadata": {},
   "outputs": [],
   "source": [
    "#<a href=\"https://forum.ge/?showforum=29\">პოლიტიკა</a>"
   ]
  },
  {
   "cell_type": "code",
   "execution_count": 83,
   "metadata": {},
   "outputs": [],
   "source": [
    "url1='https://forum.ge/?s=acd97a5968e0fe952cc4069f4096248e&showforum=29'\n",
    "forum_page=urlopen(url1)\n",
    "soup=BeautifulSoup(forum_page,'lxml')\n",
    "thread_links=soup.findAll('a', {'class': ['linkthru']})"
   ]
  },
  {
   "cell_type": "code",
   "execution_count": 84,
   "metadata": {},
   "outputs": [
    {
     "data": {
      "text/plain": [
       "'https://forum.ge/?s=98eed99517745a07bf3ca9712330de65&f=29&showtopic=33913175'"
      ]
     },
     "execution_count": 84,
     "metadata": {},
     "output_type": "execute_result"
    }
   ],
   "source": [
    "thread_links[1].attrs['href']"
   ]
  },
  {
   "cell_type": "code",
   "execution_count": 85,
   "metadata": {},
   "outputs": [],
   "source": [
    "i=0\n",
    "content=[]\n",
    "date=[]\n",
    "author=[]\n",
    "j=['abc']\n",
    "url=str(thread_links[3].attrs['href']+str('&st=')+str(i*15))\n",
    "forum_page=urlopen(url)\n",
    "soup = BeautifulSoup(forum_page, 'lxml')\n",
    "content.append(soup.findAll('div',{'class':'postcolor'}))\n",
    "while content[-1]!=j[-1]:\n",
    "    j.append(content[-1])\n",
    "    i=i+1\n",
    "    url=str(thread_links[0].attrs['href']+str('&st=')+str(i*15))\n",
    "    forum_page=urlopen(url)\n",
    "    soup = BeautifulSoup(forum_page, 'lxml')\n",
    "    content.append(soup.findAll('div',{'class':'postcolor'}))\n",
    "    #author.append(soup.findAll('td',{'class':'normalname'}).attrs['href'])\n",
    "    \n"
   ]
  },
  {
   "cell_type": "code",
   "execution_count": 86,
   "metadata": {},
   "outputs": [
    {
     "data": {
      "text/plain": [
       "31"
      ]
     },
     "execution_count": 86,
     "metadata": {},
     "output_type": "execute_result"
    }
   ],
   "source": [
    "len(content)"
   ]
  },
  {
   "cell_type": "code",
   "execution_count": 48,
   "metadata": {},
   "outputs": [],
   "source": [
    "list_of_links = []\n",
    "title=[]\n",
    "for link in thread_links:\n",
    "    if link.has_attr('href'):\n",
    "        list_of_links.append(link.attrs['href'])"
   ]
  },
  {
   "cell_type": "code",
   "execution_count": null,
   "metadata": {},
   "outputs": [],
   "source": []
  },
  {
   "cell_type": "code",
   "execution_count": null,
   "metadata": {},
   "outputs": [],
   "source": []
  },
  {
   "cell_type": "code",
   "execution_count": 120,
   "metadata": {},
   "outputs": [],
   "source": [
    "title=[]\n",
    "content=[]\n",
    "#for i in thread_links[0]:\n",
    "forum_page=urlopen(list_of_links[0])\n",
    "div_container=soup.find('div',{'class':'maintitle'})\n",
    "for ptag in div_container.find('b'):\n",
    "    # prints the p tag content\n",
    "    title.append(ptag)\n",
    "soup=BeautifulSoup(forum_page,'lxml')\n",
    "content.append(soup.findAll('div',{'class':'postcolor'}))\n",
    "thread_links=soup.findAll('a',{'2'})"
   ]
  },
  {
   "cell_type": "code",
   "execution_count": 121,
   "metadata": {},
   "outputs": [
    {
     "data": {
      "text/plain": [
       "[]"
      ]
     },
     "execution_count": 121,
     "metadata": {},
     "output_type": "execute_result"
    }
   ],
   "source": [
    "thread_links"
   ]
  },
  {
   "cell_type": "code",
   "execution_count": null,
   "metadata": {},
   "outputs": [],
   "source": []
  },
  {
   "cell_type": "code",
   "execution_count": 151,
   "metadata": {},
   "outputs": [
    {
     "data": {
      "text/plain": [
       "[' 28 Jul 2019, 05:08 ',\n",
       " ' 17 Dec 2008, 11:23 ',\n",
       " ' 26 Mar 2008, 13:04 ',\n",
       " ' 19 Aug 2019, 07:09 ',\n",
       " ' 13 Dec 2012, 21:20 ',\n",
       " ' 10 Feb 2010, 23:31 ']"
      ]
     },
     "execution_count": 151,
     "metadata": {},
     "output_type": "execute_result"
    }
   ],
   "source": [
    "new_title=[]\n",
    "for i in title:\n",
    "    new_title.append(\":\".join(i.split(':')[1:]))\n",
    "new_title    "
   ]
  },
  {
   "cell_type": "code",
   "execution_count": 158,
   "metadata": {},
   "outputs": [],
   "source": [
    "data=pd.DataFrame(data=content,index=new_title)"
   ]
  },
  {
   "cell_type": "code",
   "execution_count": 159,
   "metadata": {},
   "outputs": [],
   "source": [
    "data.to_csv(\"sample_data.csv\")"
   ]
  },
  {
   "cell_type": "code",
   "execution_count": null,
   "metadata": {},
   "outputs": [],
   "source": []
  }
 ],
 "metadata": {
  "kernelspec": {
   "display_name": "Python 3",
   "language": "python",
   "name": "python3"
  },
  "language_info": {
   "codemirror_mode": {
    "name": "ipython",
    "version": 3
   },
   "file_extension": ".py",
   "mimetype": "text/x-python",
   "name": "python",
   "nbconvert_exporter": "python",
   "pygments_lexer": "ipython3",
   "version": "3.6.9"
  }
 },
 "nbformat": 4,
 "nbformat_minor": 2
}
